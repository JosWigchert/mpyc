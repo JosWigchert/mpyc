{
 "cells": [
  {
   "cell_type": "markdown",
   "metadata": {},
   "source": [
    "# Secure sorting networks explained\n",
    "\n",
    "In this notebook, we develop some MPC protocols for securely sorting lists of secret-shared numbers. Concretely, we will show how to define functions sorting lists of secure MPyC integers into ascending order. The values represented by the secure integers and their relative order should remain completely secret.\n",
    "\n",
    "The explanation below assumes some basic familiarity with the MPyC framework for secure computation. Our main goal is to show how existing Python code for (oblivious) sorting can be used to implement a secure MPC sorting protocol using the `mpyc` package. The modifications to the existing code are very limited.\n",
    "\n",
    "## Sorting networks\n",
    "\n",
    "[Sorting networks](https://en.wikipedia.org/wiki/Sorting_network) are a classical type of comparison-based sorting algorithms. The basic operation (or, gate) in a sorting network is the *compare&swap* operation, which puts any two list elements $x[i]$ and $x[j]$, $i<j$, in ascending order. That is, only if $x[i]>x[j]$, elements $x[i]$ and $x[j]$ are swapped, and otherwise the compare&swap operation leaves the list unchanged. \n",
    "\n",
    "A sorting network specifies the exact sequence of compare&swap operations to be applied to a list of a given length $n$. The particular sequence depends only on $n$, the length of the input list. Even when the input list is already in ascending order, the sorting network will perform exactly as many---and actually the same---compare&swap operations as when the input list would be in descending order. \n",
    "\n",
    "For example, to sort a list of three numbers, one needs to perform three compare&swap operations with indices $(i,j)$ equal to $(0,1)$, then $(1,2)$, and finally once more $(0,1)$.\n",
    "\n",
    "Below, we will use odd-even merge sort and bitonic sort, which are two well-known practical sorting networks. \n",
    "\n",
    "## MPyC setup\n",
    "\n",
    "A simple MPyC setup using 32-bit (default) secure MPyC integers suffices for the purpose of this demonstration.\n",
    "\n",
    "At this point we also import the Python `traceback` module for later use."
   ]
  },
  {
   "cell_type": "code",
   "execution_count": null,
   "metadata": {},
   "outputs": [],
   "source": [
    "from mpyc.runtime import mpc    # load MPyC\n",
    "secint = mpc.SecInt()           # 32-bit secure MPyC integers\n",
    "mpc.run(mpc.start())            # required only when run with multiple parties\n",
    "import traceback                # to show some suppressed error messages\n",
    "import math\n",
    "import random"
   ]
  },
  {
   "cell_type": "markdown",
   "metadata": {},
   "source": [
    "## Odd-even merge sort\n",
    "\n",
    "Odd-even merge sort is an elegant, but somewhat intricate, sorting network. The details are nicely explained in the Wikipedia article [Batcher's Odd-Even Mergesort](https://en.wikipedia.org/wiki/Batcher_odd–even_mergesort). \n",
    "\n",
    "For our purposes, however, there is no need to understand exactly how this particular sorting network works. The only thing that we need to do is to grab the following  [example Python code](https://en.wikipedia.org/w/index.php?title=Batcher_odd%E2%80%93even_mergesort&oldid=969926478#Example_code) from this Wikipedia article."
   ]
  },
  {
   "cell_type": "code",
   "execution_count": 369,
   "metadata": {},
   "outputs": [],
   "source": [
    "def binary_search_insecure(x, a):\n",
    "    low = 0\n",
    "    high = len(x)-1\n",
    "    if x[0] == a:\n",
    "            return 0\n",
    "    elif x[len(x)-1] == a:\n",
    "        return len(x)-1\n",
    "    else:\n",
    "        while(low <= high):\n",
    "            mid = int((low+high)/2)\n",
    "            if x[mid]==a:\n",
    "                return mid\n",
    "            elif x[mid] > a:\n",
    "                high = mid -1\n",
    "            elif x[mid] < a:\n",
    "                low = mid +1\n",
    "        return -1  #returns -1 if the target does not exist\n",
    "    \n",
    "def binary_search(x, a):\n",
    "    low = 0\n",
    "    high = len(x)-1\n",
    "   \n",
    "    searching = True\n",
    "    array_length = len(x)\n",
    "    searches = int(math.log(array_length, 2))\n",
    "    searches += 1\n",
    "\n",
    "    mid = -1\n",
    "\n",
    "    for i in range(searches):\n",
    "        mid = (low+high)//2\n",
    "        high = mpc.if_else(x[mid] > a, mid - 1, high)\n",
    "        low = mpc.if_else(x[mid] < a, mid + 1, low)\n",
    "\n",
    "        # display(low)\n",
    "        # display(mid)\n",
    "        # display(high)\n",
    "        # display(\"\")\n",
    "\n",
    "    mid = mpc.if_else(x[mid] != a, -1, mid)\n",
    "\n",
    "    return mid  #returns -1 if the target does not exist"
   ]
  },
  {
   "cell_type": "code",
   "execution_count": 498,
   "metadata": {},
   "outputs": [
    {
     "data": {
      "text/plain": [
       "[-22201,\n",
       " -21609,\n",
       " -21025,\n",
       " -20449,\n",
       " -19881,\n",
       " -19321,\n",
       " -18769,\n",
       " -18225,\n",
       " -17689,\n",
       " -17161,\n",
       " -16641,\n",
       " -16129,\n",
       " -15625,\n",
       " -15129,\n",
       " -14641,\n",
       " -14161,\n",
       " -13689,\n",
       " -13225,\n",
       " -12769,\n",
       " -12321,\n",
       " -11881,\n",
       " -11449,\n",
       " -11025,\n",
       " -10609,\n",
       " -10201,\n",
       " -9801,\n",
       " -9409,\n",
       " -9025,\n",
       " -8649,\n",
       " -8281,\n",
       " -7921,\n",
       " -7569,\n",
       " -7225,\n",
       " -6889,\n",
       " -6561,\n",
       " -6241,\n",
       " -5929,\n",
       " -5625,\n",
       " -5329,\n",
       " -5041,\n",
       " -4761,\n",
       " -4489,\n",
       " -4225,\n",
       " -3969,\n",
       " -3721,\n",
       " -3481,\n",
       " -3249,\n",
       " -3025,\n",
       " -2809,\n",
       " -2601,\n",
       " 2500,\n",
       " 2704,\n",
       " 2916,\n",
       " 3136,\n",
       " 3364,\n",
       " 3600,\n",
       " 3844,\n",
       " 4096,\n",
       " 4356,\n",
       " 4624,\n",
       " 4900,\n",
       " 5184,\n",
       " 5476,\n",
       " 5776,\n",
       " 6084,\n",
       " 6400,\n",
       " 6724,\n",
       " 7056,\n",
       " 7396,\n",
       " 7744,\n",
       " 8100,\n",
       " 8464,\n",
       " 8836,\n",
       " 9216,\n",
       " 9604,\n",
       " 10000,\n",
       " 10404,\n",
       " 10816,\n",
       " 11236,\n",
       " 11664,\n",
       " 12100,\n",
       " 12544,\n",
       " 12996,\n",
       " 13456,\n",
       " 13924,\n",
       " 14400,\n",
       " 14884,\n",
       " 15376,\n",
       " 15876,\n",
       " 16384,\n",
       " 16900,\n",
       " 17424,\n",
       " 17956,\n",
       " 18496,\n",
       " 19044,\n",
       " 19600,\n",
       " 20164,\n",
       " 20736,\n",
       " 21316,\n",
       " 21904]"
      ]
     },
     "execution_count": 498,
     "metadata": {},
     "output_type": "execute_result"
    }
   ],
   "source": [
    "n = 100\n",
    "s = [(-1)**i * (i + n//2)**2 for i in range(n)]\n",
    "s.sort()\n",
    "s"
   ]
  },
  {
   "cell_type": "markdown",
   "metadata": {},
   "source": [
    "We run the code on a simple example. Note that this code assumes that the length of the input list is an integral power of two."
   ]
  },
  {
   "cell_type": "code",
   "execution_count": 491,
   "metadata": {},
   "outputs": [
    {
     "name": "stdout",
     "output_type": "stream",
     "text": [
      "random_index = 71 ~ index = 71\n"
     ]
    }
   ],
   "source": [
    "random_index = random.randint(0, n-1)\n",
    "a = s[random_index]\n",
    "index = binary_search_insecure(s, a)\n",
    "print(f\"random_index = {random_index} ~ index = {index}\")"
   ]
  },
  {
   "cell_type": "code",
   "execution_count": 492,
   "metadata": {},
   "outputs": [
    {
     "name": "stdout",
     "output_type": "stream",
     "text": [
      "random_index = 33 ~ index = 33\n"
     ]
    }
   ],
   "source": [
    "random_index = random.randint(0, n-1)\n",
    "a = s[random_index]\n",
    "index = binary_search(s, a)\n",
    "print(f\"random_index = {random_index} ~ index = {index}\")"
   ]
  },
  {
   "cell_type": "markdown",
   "metadata": {},
   "source": [
    "We try to run this code on a list of secure MPyC integers."
   ]
  },
  {
   "cell_type": "code",
   "execution_count": 493,
   "metadata": {},
   "outputs": [
    {
     "name": "stderr",
     "output_type": "stream",
     "text": [
      "Traceback (most recent call last):\n",
      "  File \"/tmp/ipykernel_6515/1876367047.py\", line 4, in <module>\n",
      "    index = binary_search_insecure(x, a)\n",
      "            ^^^^^^^^^^^^^^^^^^^^^^^^^^^^\n",
      "  File \"/tmp/ipykernel_6515/1651362417.py\", line 4, in binary_search_insecure\n",
      "    if x[0] == a:\n",
      "       ^^^^^^^^^\n",
      "  File \"/home/jos/bin/mpyc/mpyc/sectypes.py\", line 69, in __bool__\n",
      "    raise TypeError('cannot use secure type in Boolean expressions')\n",
      "TypeError: cannot use secure type in Boolean expressions\n"
     ]
    }
   ],
   "source": [
    "random_index = random.randint(0, n-1)\n",
    "a = s[random_index]\n",
    "try:\n",
    "    index = binary_search_insecure(x, a)\n",
    "    print(f\"random_index = {random_index} ~ index = {index}\")\n",
    "except:\n",
    "    traceback.print_exc()"
   ]
  },
  {
   "cell_type": "code",
   "execution_count": 494,
   "metadata": {},
   "outputs": [
    {
     "name": "stdout",
     "output_type": "stream",
     "text": [
      "random_index = 27 ~ index = <Future finished result=27>\n"
     ]
    }
   ],
   "source": [
    "random_index = random.randint(0, n-1)\n",
    "a = s[random_index]\n",
    "x = list(map(secint, s))\n",
    "x = mpc.seclist(x)\n",
    "try:\n",
    "    index = binary_search(x, a)\n",
    "    print(f\"random_index = {random_index} ~ index = {mpc.output(index)}\")\n",
    "except:\n",
    "    traceback.print_exc()"
   ]
  },
  {
   "cell_type": "code",
   "execution_count": null,
   "metadata": {
    "scrolled": true
   },
   "outputs": [],
   "source": [
    "mpc.run(mpc.shutdown())   # required only when run with multiple parties"
   ]
  }
 ],
 "metadata": {
  "kernelspec": {
   "display_name": "Python 3 (ipykernel)",
   "language": "python",
   "name": "python3"
  },
  "language_info": {
   "codemirror_mode": {
    "name": "ipython",
    "version": 3
   },
   "file_extension": ".py",
   "mimetype": "text/x-python",
   "name": "python",
   "nbconvert_exporter": "python",
   "pygments_lexer": "ipython3",
   "version": "3.11.2"
  }
 },
 "nbformat": 4,
 "nbformat_minor": 2
}
