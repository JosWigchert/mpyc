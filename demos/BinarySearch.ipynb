{
 "cells": [
  {
   "cell_type": "markdown",
   "metadata": {},
   "source": [
    "# Secure sorting networks explained\n",
    "\n",
    "In this notebook, we develop some MPC protocols for securely sorting lists of secret-shared numbers. Concretely, we will show how to define functions sorting lists of secure MPyC integers into ascending order. The values represented by the secure integers and their relative order should remain completely secret.\n",
    "\n",
    "The explanation below assumes some basic familiarity with the MPyC framework for secure computation. Our main goal is to show how existing Python code for (oblivious) sorting can be used to implement a secure MPC sorting protocol using the `mpyc` package. The modifications to the existing code are very limited.\n",
    "\n",
    "## Sorting networks\n",
    "\n",
    "[Sorting networks](https://en.wikipedia.org/wiki/Sorting_network) are a classical type of comparison-based sorting algorithms. The basic operation (or, gate) in a sorting network is the *compare&swap* operation, which puts any two list elements $x[i]$ and $x[j]$, $i<j$, in ascending order. That is, only if $x[i]>x[j]$, elements $x[i]$ and $x[j]$ are swapped, and otherwise the compare&swap operation leaves the list unchanged. \n",
    "\n",
    "A sorting network specifies the exact sequence of compare&swap operations to be applied to a list of a given length $n$. The particular sequence depends only on $n$, the length of the input list. Even when the input list is already in ascending order, the sorting network will perform exactly as many---and actually the same---compare&swap operations as when the input list would be in descending order. \n",
    "\n",
    "For example, to sort a list of three numbers, one needs to perform three compare&swap operations with indices $(i,j)$ equal to $(0,1)$, then $(1,2)$, and finally once more $(0,1)$.\n",
    "\n",
    "Below, we will use odd-even merge sort and bitonic sort, which are two well-known practical sorting networks. \n",
    "\n",
    "## MPyC setup\n",
    "\n",
    "A simple MPyC setup using 32-bit (default) secure MPyC integers suffices for the purpose of this demonstration.\n",
    "\n",
    "At this point we also import the Python `traceback` module for later use."
   ]
  },
  {
   "cell_type": "code",
   "execution_count": 2,
   "metadata": {},
   "outputs": [
    {
     "name": "stdout",
     "output_type": "stream",
     "text": [
      "2023-04-04 12:05:42,517 Start MPyC runtime v0.9\n"
     ]
    }
   ],
   "source": [
    "from mpyc.runtime import mpc    # load MPyC\n",
    "secint = mpc.SecInt()           # 32-bit secure MPyC integers\n",
    "mpc.run(mpc.start())            # required only when run with multiple parties\n",
    "import traceback                # to show some suppressed error messages\n",
    "import math"
   ]
  },
  {
   "cell_type": "markdown",
   "metadata": {},
   "source": [
    "## Odd-even merge sort\n",
    "\n",
    "Odd-even merge sort is an elegant, but somewhat intricate, sorting network. The details are nicely explained in the Wikipedia article [Batcher's Odd-Even Mergesort](https://en.wikipedia.org/wiki/Batcher_odd–even_mergesort). \n",
    "\n",
    "For our purposes, however, there is no need to understand exactly how this particular sorting network works. The only thing that we need to do is to grab the following  [example Python code](https://en.wikipedia.org/w/index.php?title=Batcher_odd%E2%80%93even_mergesort&oldid=969926478#Example_code) from this Wikipedia article."
   ]
  },
  {
   "cell_type": "code",
   "execution_count": 8,
   "metadata": {},
   "outputs": [],
   "source": [
    "def binary_search_insecure(x, a):\n",
    "    low = 0\n",
    "    high = len(x)-1\n",
    "    if x[0] == a:\n",
    "            return 0\n",
    "    elif x[len(x)-1] == a:\n",
    "        return len(x)-1\n",
    "    else:\n",
    "        while(low <= high):\n",
    "            mid = int((low+high)/2)\n",
    "            if x[mid]==a:\n",
    "                return mid\n",
    "            elif x[mid] > a:\n",
    "                high = mid -1\n",
    "            elif x[mid] < a:\n",
    "                low = mid +1\n",
    "        return -1  #returns -1 if the target does not exist\n",
    "    \n",
    "def binary_search(x, a):\n",
    "    low = 0\n",
    "    high = len(x)-1\n",
    "   \n",
    "    searching = True\n",
    "    array_length = len(x)\n",
    "    searches = int(math.log(array_length, 2))\n",
    "\n",
    "    mid = -1\n",
    "\n",
    "    for i in range(searches):\n",
    "        mid = (low+high)//2\n",
    "        high = mpc.if_else(x[mid] > a, mid - 1, high)\n",
    "        low = mpc.if_else(x[mid] < a, mid + 1, low)\n",
    "\n",
    "    mpc.if_else(x[mid] != a, -1, mid)\n",
    "\n",
    "    return mid  #returns -1 if the target does not exist"
   ]
  },
  {
   "cell_type": "markdown",
   "metadata": {},
   "source": [
    "We run the code on a simple example. Note that this code assumes that the length of the input list is an integral power of two."
   ]
  },
  {
   "cell_type": "code",
   "execution_count": 9,
   "metadata": {},
   "outputs": [
    {
     "name": "stdout",
     "output_type": "stream",
     "text": [
      "6\n"
     ]
    }
   ],
   "source": [
    "x = [1, 2, 3, 4, 5, 6, 7, 8, 9]\n",
    "a = 7\n",
    "index = binary_search_insecure(x, a)\n",
    "print(index)"
   ]
  },
  {
   "cell_type": "code",
   "execution_count": 10,
   "metadata": {},
   "outputs": [
    {
     "name": "stdout",
     "output_type": "stream",
     "text": [
      "6\n"
     ]
    }
   ],
   "source": [
    "x = [1, 2, 3, 4, 5, 6, 7, 8, 9]\n",
    "a = 7\n",
    "index = binary_search(x, a)\n",
    "print(index)"
   ]
  },
  {
   "cell_type": "markdown",
   "metadata": {},
   "source": [
    "We try to run this code on a list of secure MPyC integers."
   ]
  },
  {
   "cell_type": "code",
   "execution_count": 11,
   "metadata": {},
   "outputs": [
    {
     "name": "stderr",
     "output_type": "stream",
     "text": [
      "Traceback (most recent call last):\n",
      "  File \"/tmp/ipykernel_6515/4227598106.py\", line 4, in <module>\n",
      "    index = binary_search_insecure(x, a)\n",
      "            ^^^^^^^^^^^^^^^^^^^^^^^^^^^^\n",
      "  File \"/tmp/ipykernel_6515/1103545969.py\", line 4, in binary_search_insecure\n",
      "    if x[0] == a:\n",
      "       ^^^^^^^^^\n",
      "  File \"/home/jos/bin/mpyc/mpyc/sectypes.py\", line 69, in __bool__\n",
      "    raise TypeError('cannot use secure type in Boolean expressions')\n",
      "TypeError: cannot use secure type in Boolean expressions\n"
     ]
    }
   ],
   "source": [
    "x = list(map(secint, [2, 4, 3, 5, 6, 1, 7, 8]))\n",
    "a = 7\n",
    "try:\n",
    "    index = binary_search_insecure(x, a)\n",
    "    print(index)\n",
    "except:\n",
    "    traceback.print_exc()"
   ]
  },
  {
   "cell_type": "code",
   "execution_count": 12,
   "metadata": {},
   "outputs": [
    {
     "name": "stderr",
     "output_type": "stream",
     "text": [
      "Traceback (most recent call last):\n",
      "  File \"/tmp/ipykernel_6515/1852210698.py\", line 5, in <module>\n",
      "    index = binary_search(x, a)\n",
      "            ^^^^^^^^^^^^^^^^^^^\n",
      "  File \"/tmp/ipykernel_6515/1103545969.py\", line 34, in binary_search\n",
      "    if x[mid] != a:\n",
      "       ^^^^^^^^^^^\n",
      "  File \"/home/jos/bin/mpyc/mpyc/sectypes.py\", line 69, in __bool__\n",
      "    raise TypeError('cannot use secure type in Boolean expressions')\n",
      "TypeError: cannot use secure type in Boolean expressions\n"
     ]
    }
   ],
   "source": [
    "x = list(map(secint, [2, 4, 3, 5, 6, 1, 7, 8]))\n",
    "x = mpc.seclist(x)\n",
    "a = 7\n",
    "try:\n",
    "    index = binary_search(x, a)\n",
    "    print(index)\n",
    "except:\n",
    "    traceback.print_exc()"
   ]
  },
  {
   "cell_type": "code",
   "execution_count": 58,
   "metadata": {
    "scrolled": true
   },
   "outputs": [
    {
     "name": "stdout",
     "output_type": "stream",
     "text": [
      "2023-03-31 17:04:42,798 Stop MPyC -- elapsed time: 1:38:15.644|bytes sent: 0\n"
     ]
    }
   ],
   "source": [
    "mpc.run(mpc.shutdown())   # required only when run with multiple parties"
   ]
  },
  {
   "cell_type": "markdown",
   "metadata": {},
   "source": [
    "The Python script [sort.py](sort.py) demos MPyC's built-in sorting method, which uses Batcher's merge-exchange sort (nonrecursive version of odd-even merge sort)."
   ]
  },
  {
   "cell_type": "markdown",
   "metadata": {},
   "source": []
  }
 ],
 "metadata": {
  "kernelspec": {
   "display_name": "Python 3 (ipykernel)",
   "language": "python",
   "name": "python3"
  },
  "language_info": {
   "codemirror_mode": {
    "name": "ipython",
    "version": 3
   },
   "file_extension": ".py",
   "mimetype": "text/x-python",
   "name": "python",
   "nbconvert_exporter": "python",
   "pygments_lexer": "ipython3",
   "version": "3.11.2"
  }
 },
 "nbformat": 4,
 "nbformat_minor": 2
}
